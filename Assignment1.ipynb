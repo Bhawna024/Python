{
 "cells": [
  {
   "cell_type": "code",
   "execution_count": 1,
   "metadata": {},
   "outputs": [],
   "source": [
    "import numpy as np # linear algebra\n",
    "import pandas as pd # data processing, CSV file I/O (e.g. pd.read_csv)\n",
    "import time\n",
    "\n",
    "# Classifier Libraries\n",
    "from sklearn.linear_model import LogisticRegression\n",
    "from sklearn.preprocessing import StandardScaler, RobustScaler\n",
    "from sklearn.model_selection import train_test_split\n",
    "from sklearn.metrics import precision_score, recall_score, confusion_matrix,accuracy_score"
   ]
  },
  {
   "cell_type": "code",
   "execution_count": 2,
   "metadata": {},
   "outputs": [
    {
     "data": {
      "text/html": [
       "<div>\n",
       "<style scoped>\n",
       "    .dataframe tbody tr th:only-of-type {\n",
       "        vertical-align: middle;\n",
       "    }\n",
       "\n",
       "    .dataframe tbody tr th {\n",
       "        vertical-align: top;\n",
       "    }\n",
       "\n",
       "    .dataframe thead th {\n",
       "        text-align: right;\n",
       "    }\n",
       "</style>\n",
       "<table border=\"1\" class=\"dataframe\">\n",
       "  <thead>\n",
       "    <tr style=\"text-align: right;\">\n",
       "      <th></th>\n",
       "      <th>CRS_DEP_TIME</th>\n",
       "      <th>CARRIER</th>\n",
       "      <th>DEP_TIME</th>\n",
       "      <th>DEST</th>\n",
       "      <th>DISTANCE</th>\n",
       "      <th>FL_DATE</th>\n",
       "      <th>FL_NUM</th>\n",
       "      <th>ORIGIN</th>\n",
       "      <th>Weather</th>\n",
       "      <th>DAY_WEEK</th>\n",
       "      <th>DAY_OF_MONTH</th>\n",
       "      <th>TAIL_NUM</th>\n",
       "      <th>Flight Status</th>\n",
       "    </tr>\n",
       "  </thead>\n",
       "  <tbody>\n",
       "    <tr>\n",
       "      <td>0</td>\n",
       "      <td>1455</td>\n",
       "      <td>OH</td>\n",
       "      <td>1455</td>\n",
       "      <td>JFK</td>\n",
       "      <td>184</td>\n",
       "      <td>01/01/2004</td>\n",
       "      <td>5935</td>\n",
       "      <td>BWI</td>\n",
       "      <td>0</td>\n",
       "      <td>4</td>\n",
       "      <td>1</td>\n",
       "      <td>N940CA</td>\n",
       "      <td>ontime</td>\n",
       "    </tr>\n",
       "    <tr>\n",
       "      <td>1</td>\n",
       "      <td>1640</td>\n",
       "      <td>DH</td>\n",
       "      <td>1640</td>\n",
       "      <td>JFK</td>\n",
       "      <td>213</td>\n",
       "      <td>01/01/2004</td>\n",
       "      <td>6155</td>\n",
       "      <td>DCA</td>\n",
       "      <td>0</td>\n",
       "      <td>4</td>\n",
       "      <td>1</td>\n",
       "      <td>N405FJ</td>\n",
       "      <td>ontime</td>\n",
       "    </tr>\n",
       "    <tr>\n",
       "      <td>2</td>\n",
       "      <td>1245</td>\n",
       "      <td>DH</td>\n",
       "      <td>1245</td>\n",
       "      <td>LGA</td>\n",
       "      <td>229</td>\n",
       "      <td>01/01/2004</td>\n",
       "      <td>7208</td>\n",
       "      <td>IAD</td>\n",
       "      <td>0</td>\n",
       "      <td>4</td>\n",
       "      <td>1</td>\n",
       "      <td>N695BR</td>\n",
       "      <td>ontime</td>\n",
       "    </tr>\n",
       "    <tr>\n",
       "      <td>3</td>\n",
       "      <td>1715</td>\n",
       "      <td>DH</td>\n",
       "      <td>1709</td>\n",
       "      <td>LGA</td>\n",
       "      <td>229</td>\n",
       "      <td>01/01/2004</td>\n",
       "      <td>7215</td>\n",
       "      <td>IAD</td>\n",
       "      <td>0</td>\n",
       "      <td>4</td>\n",
       "      <td>1</td>\n",
       "      <td>N662BR</td>\n",
       "      <td>ontime</td>\n",
       "    </tr>\n",
       "    <tr>\n",
       "      <td>4</td>\n",
       "      <td>1039</td>\n",
       "      <td>DH</td>\n",
       "      <td>1035</td>\n",
       "      <td>LGA</td>\n",
       "      <td>229</td>\n",
       "      <td>01/01/2004</td>\n",
       "      <td>7792</td>\n",
       "      <td>IAD</td>\n",
       "      <td>0</td>\n",
       "      <td>4</td>\n",
       "      <td>1</td>\n",
       "      <td>N698BR</td>\n",
       "      <td>ontime</td>\n",
       "    </tr>\n",
       "  </tbody>\n",
       "</table>\n",
       "</div>"
      ],
      "text/plain": [
       "   CRS_DEP_TIME CARRIER  DEP_TIME DEST  DISTANCE     FL_DATE  FL_NUM ORIGIN  \\\n",
       "0          1455      OH      1455  JFK       184  01/01/2004    5935    BWI   \n",
       "1          1640      DH      1640  JFK       213  01/01/2004    6155    DCA   \n",
       "2          1245      DH      1245  LGA       229  01/01/2004    7208    IAD   \n",
       "3          1715      DH      1709  LGA       229  01/01/2004    7215    IAD   \n",
       "4          1039      DH      1035  LGA       229  01/01/2004    7792    IAD   \n",
       "\n",
       "   Weather  DAY_WEEK  DAY_OF_MONTH TAIL_NUM Flight Status  \n",
       "0        0         4             1   N940CA        ontime  \n",
       "1        0         4             1   N405FJ        ontime  \n",
       "2        0         4             1   N695BR        ontime  \n",
       "3        0         4             1   N662BR        ontime  \n",
       "4        0         4             1   N698BR        ontime  "
      ]
     },
     "execution_count": 2,
     "metadata": {},
     "output_type": "execute_result"
    }
   ],
   "source": [
    "data = pd.read_csv(r'C:\\Users\\BHAWNA KUMARI\\Desktop\\FlightDelays.csv') # data -> Pandas dataframe\n",
    "data.head()"
   ]
  },
  {
   "cell_type": "code",
   "execution_count": 3,
   "metadata": {},
   "outputs": [
    {
     "data": {
      "text/html": [
       "<div>\n",
       "<style scoped>\n",
       "    .dataframe tbody tr th:only-of-type {\n",
       "        vertical-align: middle;\n",
       "    }\n",
       "\n",
       "    .dataframe tbody tr th {\n",
       "        vertical-align: top;\n",
       "    }\n",
       "\n",
       "    .dataframe thead th {\n",
       "        text-align: right;\n",
       "    }\n",
       "</style>\n",
       "<table border=\"1\" class=\"dataframe\">\n",
       "  <thead>\n",
       "    <tr style=\"text-align: right;\">\n",
       "      <th></th>\n",
       "      <th>CRS_DEP_TIME</th>\n",
       "      <th>DEP_TIME</th>\n",
       "      <th>DISTANCE</th>\n",
       "      <th>FL_NUM</th>\n",
       "      <th>Weather</th>\n",
       "      <th>DAY_WEEK</th>\n",
       "      <th>DAY_OF_MONTH</th>\n",
       "    </tr>\n",
       "  </thead>\n",
       "  <tbody>\n",
       "    <tr>\n",
       "      <td>count</td>\n",
       "      <td>2201.000000</td>\n",
       "      <td>2201.000000</td>\n",
       "      <td>2201.000000</td>\n",
       "      <td>2201.000000</td>\n",
       "      <td>2201.000000</td>\n",
       "      <td>2201.000000</td>\n",
       "      <td>2201.000000</td>\n",
       "    </tr>\n",
       "    <tr>\n",
       "      <td>mean</td>\n",
       "      <td>1371.938664</td>\n",
       "      <td>1369.298955</td>\n",
       "      <td>211.871422</td>\n",
       "      <td>3815.086324</td>\n",
       "      <td>0.014539</td>\n",
       "      <td>3.905498</td>\n",
       "      <td>16.024989</td>\n",
       "    </tr>\n",
       "    <tr>\n",
       "      <td>std</td>\n",
       "      <td>432.697149</td>\n",
       "      <td>442.462754</td>\n",
       "      <td>13.316815</td>\n",
       "      <td>2409.750224</td>\n",
       "      <td>0.119725</td>\n",
       "      <td>1.903149</td>\n",
       "      <td>8.677390</td>\n",
       "    </tr>\n",
       "    <tr>\n",
       "      <td>min</td>\n",
       "      <td>600.000000</td>\n",
       "      <td>10.000000</td>\n",
       "      <td>169.000000</td>\n",
       "      <td>746.000000</td>\n",
       "      <td>0.000000</td>\n",
       "      <td>1.000000</td>\n",
       "      <td>1.000000</td>\n",
       "    </tr>\n",
       "    <tr>\n",
       "      <td>25%</td>\n",
       "      <td>1000.000000</td>\n",
       "      <td>1004.000000</td>\n",
       "      <td>213.000000</td>\n",
       "      <td>2156.000000</td>\n",
       "      <td>0.000000</td>\n",
       "      <td>2.000000</td>\n",
       "      <td>8.000000</td>\n",
       "    </tr>\n",
       "    <tr>\n",
       "      <td>50%</td>\n",
       "      <td>1455.000000</td>\n",
       "      <td>1450.000000</td>\n",
       "      <td>214.000000</td>\n",
       "      <td>2385.000000</td>\n",
       "      <td>0.000000</td>\n",
       "      <td>4.000000</td>\n",
       "      <td>16.000000</td>\n",
       "    </tr>\n",
       "    <tr>\n",
       "      <td>75%</td>\n",
       "      <td>1710.000000</td>\n",
       "      <td>1709.000000</td>\n",
       "      <td>214.000000</td>\n",
       "      <td>6155.000000</td>\n",
       "      <td>0.000000</td>\n",
       "      <td>5.000000</td>\n",
       "      <td>23.000000</td>\n",
       "    </tr>\n",
       "    <tr>\n",
       "      <td>max</td>\n",
       "      <td>2130.000000</td>\n",
       "      <td>2330.000000</td>\n",
       "      <td>229.000000</td>\n",
       "      <td>7924.000000</td>\n",
       "      <td>1.000000</td>\n",
       "      <td>7.000000</td>\n",
       "      <td>31.000000</td>\n",
       "    </tr>\n",
       "  </tbody>\n",
       "</table>\n",
       "</div>"
      ],
      "text/plain": [
       "       CRS_DEP_TIME     DEP_TIME     DISTANCE       FL_NUM      Weather  \\\n",
       "count   2201.000000  2201.000000  2201.000000  2201.000000  2201.000000   \n",
       "mean    1371.938664  1369.298955   211.871422  3815.086324     0.014539   \n",
       "std      432.697149   442.462754    13.316815  2409.750224     0.119725   \n",
       "min      600.000000    10.000000   169.000000   746.000000     0.000000   \n",
       "25%     1000.000000  1004.000000   213.000000  2156.000000     0.000000   \n",
       "50%     1455.000000  1450.000000   214.000000  2385.000000     0.000000   \n",
       "75%     1710.000000  1709.000000   214.000000  6155.000000     0.000000   \n",
       "max     2130.000000  2330.000000   229.000000  7924.000000     1.000000   \n",
       "\n",
       "          DAY_WEEK  DAY_OF_MONTH  \n",
       "count  2201.000000   2201.000000  \n",
       "mean      3.905498     16.024989  \n",
       "std       1.903149      8.677390  \n",
       "min       1.000000      1.000000  \n",
       "25%       2.000000      8.000000  \n",
       "50%       4.000000     16.000000  \n",
       "75%       5.000000     23.000000  \n",
       "max       7.000000     31.000000  "
      ]
     },
     "execution_count": 3,
     "metadata": {},
     "output_type": "execute_result"
    }
   ],
   "source": [
    "data.describe()"
   ]
  },
  {
   "cell_type": "code",
   "execution_count": 4,
   "metadata": {},
   "outputs": [
    {
     "data": {
      "text/plain": [
       "Flight Status\n",
       "delayed     428\n",
       "ontime     1773\n",
       "dtype: int64"
      ]
     },
     "execution_count": 4,
     "metadata": {},
     "output_type": "execute_result"
    }
   ],
   "source": [
    "data.groupby('Flight Status').size()"
   ]
  },
  {
   "cell_type": "code",
   "execution_count": 5,
   "metadata": {},
   "outputs": [
    {
     "data": {
      "text/plain": [
       "CRS_DEP_TIME     0\n",
       "CARRIER          0\n",
       "DEP_TIME         0\n",
       "DEST             0\n",
       "DISTANCE         0\n",
       "FL_DATE          0\n",
       "FL_NUM           0\n",
       "ORIGIN           0\n",
       "Weather          0\n",
       "DAY_WEEK         0\n",
       "DAY_OF_MONTH     0\n",
       "TAIL_NUM         0\n",
       "Flight Status    0\n",
       "dtype: int64"
      ]
     },
     "execution_count": 5,
     "metadata": {},
     "output_type": "execute_result"
    }
   ],
   "source": [
    "data.isnull().sum()"
   ]
  },
  {
   "cell_type": "code",
   "execution_count": 6,
   "metadata": {},
   "outputs": [],
   "source": [
    "data = data.drop(labels=['CRS_DEP_TIME', 'DEP_TIME', 'FL_DATE', 'FL_NUM', 'TAIL_NUM'], axis=1)"
   ]
  },
  {
   "cell_type": "code",
   "execution_count": 7,
   "metadata": {},
   "outputs": [
    {
     "data": {
      "text/html": [
       "<div>\n",
       "<style scoped>\n",
       "    .dataframe tbody tr th:only-of-type {\n",
       "        vertical-align: middle;\n",
       "    }\n",
       "\n",
       "    .dataframe tbody tr th {\n",
       "        vertical-align: top;\n",
       "    }\n",
       "\n",
       "    .dataframe thead th {\n",
       "        text-align: right;\n",
       "    }\n",
       "</style>\n",
       "<table border=\"1\" class=\"dataframe\">\n",
       "  <thead>\n",
       "    <tr style=\"text-align: right;\">\n",
       "      <th></th>\n",
       "      <th>CARRIER</th>\n",
       "      <th>DEST</th>\n",
       "      <th>DISTANCE</th>\n",
       "      <th>ORIGIN</th>\n",
       "      <th>Weather</th>\n",
       "      <th>DAY_WEEK</th>\n",
       "      <th>DAY_OF_MONTH</th>\n",
       "      <th>Flight Status</th>\n",
       "    </tr>\n",
       "  </thead>\n",
       "  <tbody>\n",
       "    <tr>\n",
       "      <td>0</td>\n",
       "      <td>OH</td>\n",
       "      <td>JFK</td>\n",
       "      <td>184</td>\n",
       "      <td>BWI</td>\n",
       "      <td>0</td>\n",
       "      <td>4</td>\n",
       "      <td>1</td>\n",
       "      <td>ontime</td>\n",
       "    </tr>\n",
       "    <tr>\n",
       "      <td>1</td>\n",
       "      <td>DH</td>\n",
       "      <td>JFK</td>\n",
       "      <td>213</td>\n",
       "      <td>DCA</td>\n",
       "      <td>0</td>\n",
       "      <td>4</td>\n",
       "      <td>1</td>\n",
       "      <td>ontime</td>\n",
       "    </tr>\n",
       "    <tr>\n",
       "      <td>2</td>\n",
       "      <td>DH</td>\n",
       "      <td>LGA</td>\n",
       "      <td>229</td>\n",
       "      <td>IAD</td>\n",
       "      <td>0</td>\n",
       "      <td>4</td>\n",
       "      <td>1</td>\n",
       "      <td>ontime</td>\n",
       "    </tr>\n",
       "    <tr>\n",
       "      <td>3</td>\n",
       "      <td>DH</td>\n",
       "      <td>LGA</td>\n",
       "      <td>229</td>\n",
       "      <td>IAD</td>\n",
       "      <td>0</td>\n",
       "      <td>4</td>\n",
       "      <td>1</td>\n",
       "      <td>ontime</td>\n",
       "    </tr>\n",
       "    <tr>\n",
       "      <td>4</td>\n",
       "      <td>DH</td>\n",
       "      <td>LGA</td>\n",
       "      <td>229</td>\n",
       "      <td>IAD</td>\n",
       "      <td>0</td>\n",
       "      <td>4</td>\n",
       "      <td>1</td>\n",
       "      <td>ontime</td>\n",
       "    </tr>\n",
       "  </tbody>\n",
       "</table>\n",
       "</div>"
      ],
      "text/plain": [
       "  CARRIER DEST  DISTANCE ORIGIN  Weather  DAY_WEEK  DAY_OF_MONTH Flight Status\n",
       "0      OH  JFK       184    BWI        0         4             1        ontime\n",
       "1      DH  JFK       213    DCA        0         4             1        ontime\n",
       "2      DH  LGA       229    IAD        0         4             1        ontime\n",
       "3      DH  LGA       229    IAD        0         4             1        ontime\n",
       "4      DH  LGA       229    IAD        0         4             1        ontime"
      ]
     },
     "execution_count": 7,
     "metadata": {},
     "output_type": "execute_result"
    }
   ],
   "source": [
    "data.head()"
   ]
  },
  {
   "cell_type": "code",
   "execution_count": 8,
   "metadata": {},
   "outputs": [],
   "source": [
    "x = data.iloc[:,:-1]\n",
    "y = data.iloc[:,-1].values"
   ]
  },
  {
   "cell_type": "code",
   "execution_count": 9,
   "metadata": {},
   "outputs": [],
   "source": [
    "from sklearn.preprocessing import LabelEncoder\n",
    "le = LabelEncoder()\n",
    "x['CARRIER'] = le.fit_transform(x['CARRIER'])\n",
    "x['DEST'] = le.fit_transform(x['DEST'])\n",
    "x['ORIGIN'] = le.fit_transform(x['ORIGIN'])\n",
    "y = le.fit_transform(y)"
   ]
  },
  {
   "cell_type": "code",
   "execution_count": 10,
   "metadata": {},
   "outputs": [],
   "source": [
    "x_train,x_test,y_train,y_test = train_test_split(x,y,test_size = 0.4, random_state = 0)"
   ]
  },
  {
   "cell_type": "code",
   "execution_count": 11,
   "metadata": {},
   "outputs": [],
   "source": [
    "scale = StandardScaler()\n",
    "x_train = scale.fit_transform(x_train)\n",
    "x_test = scale.transform(x_test)"
   ]
  },
  {
   "cell_type": "code",
   "execution_count": 12,
   "metadata": {},
   "outputs": [
    {
     "name": "stderr",
     "output_type": "stream",
     "text": [
      "C:\\Users\\BHAWNA KUMARI\\Anaconda3\\lib\\site-packages\\sklearn\\linear_model\\logistic.py:432: FutureWarning: Default solver will be changed to 'lbfgs' in 0.22. Specify a solver to silence this warning.\n",
      "  FutureWarning)\n"
     ]
    },
    {
     "data": {
      "text/plain": [
       "LogisticRegression(C=1.0, class_weight=None, dual=False, fit_intercept=True,\n",
       "                   intercept_scaling=1, l1_ratio=None, max_iter=100,\n",
       "                   multi_class='warn', n_jobs=None, penalty='l2',\n",
       "                   random_state=None, solver='warn', tol=0.0001, verbose=0,\n",
       "                   warm_start=False)"
      ]
     },
     "execution_count": 12,
     "metadata": {},
     "output_type": "execute_result"
    }
   ],
   "source": [
    "from sklearn.linear_model import LogisticRegression\n",
    "lg = LogisticRegression()\n",
    "lg.fit(x_train,y_train)"
   ]
  },
  {
   "cell_type": "code",
   "execution_count": 13,
   "metadata": {},
   "outputs": [
    {
     "name": "stdout",
     "output_type": "stream",
     "text": [
      "[[ 1.6465852   0.87484866  0.154146   ... -0.13316618 -0.99671168\n",
      "  -0.3606635 ]\n",
      " [-1.00941374 -1.38946551  0.08061051 ... -0.13316618 -0.99671168\n",
      "  -1.16835395]\n",
      " [-0.56674725  0.87484866  0.154146   ... -0.13316618  0.58969437\n",
      "  -0.8222009 ]\n",
      " ...\n",
      " [-1.00941374  0.87484866  1.25717849 ... -0.13316618 -1.5255137\n",
      "  -0.47604785]\n",
      " [ 0.76125222 -1.38946551  0.08061051 ... -0.13316618 -1.5255137\n",
      "  -0.47604785]\n",
      " [ 1.6465852   0.87484866  0.154146   ... -0.13316618  0.58969437\n",
      "   0.79317999]]\n"
     ]
    }
   ],
   "source": [
    "print(x_train)"
   ]
  },
  {
   "cell_type": "code",
   "execution_count": 14,
   "metadata": {},
   "outputs": [],
   "source": [
    "y_pred = np.array(lg.predict(x_test))"
   ]
  },
  {
   "cell_type": "code",
   "execution_count": 15,
   "metadata": {},
   "outputs": [
    {
     "name": "stdout",
     "output_type": "stream",
     "text": [
      "[[1 1]\n",
      " [1 0]\n",
      " [1 1]\n",
      " ...\n",
      " [1 1]\n",
      " [1 0]\n",
      " [1 1]]\n"
     ]
    }
   ],
   "source": [
    "print(np.concatenate((y_pred.reshape(len(y_pred),1), y_test.reshape(len(y_test),1)),1))"
   ]
  },
  {
   "cell_type": "code",
   "execution_count": 16,
   "metadata": {},
   "outputs": [
    {
     "name": "stdout",
     "output_type": "stream",
     "text": [
      "[[  9   0]\n",
      " [160 712]]\n"
     ]
    },
    {
     "data": {
      "text/plain": [
       "0.8183881952326901"
      ]
     },
     "execution_count": 16,
     "metadata": {},
     "output_type": "execute_result"
    }
   ],
   "source": [
    "print(confusion_matrix(y_pred,y_test))\n",
    "accuracy_score(y_test,y_pred) "
   ]
  },
  {
   "cell_type": "code",
   "execution_count": 17,
   "metadata": {},
   "outputs": [],
   "source": [
    "from sklearn.decomposition import PCA\n",
    "x = scale.fit_transform(x)"
   ]
  },
  {
   "cell_type": "code",
   "execution_count": 18,
   "metadata": {},
   "outputs": [],
   "source": [
    "pca = PCA(n_components = 3)\n",
    "fit = pca.fit_transform(x)"
   ]
  },
  {
   "cell_type": "code",
   "execution_count": 19,
   "metadata": {},
   "outputs": [],
   "source": [
    "fit = pd.DataFrame(data = fit, columns= ['Feature_1','Feature_2','Feature_3'])"
   ]
  },
  {
   "cell_type": "code",
   "execution_count": 20,
   "metadata": {},
   "outputs": [
    {
     "name": "stdout",
     "output_type": "stream",
     "text": [
      "      Feature_1  Feature_2  Feature_3\n",
      "0      2.921973   0.188264  -0.796792\n",
      "1     -0.097942   0.692789  -0.933490\n",
      "2     -2.202756  -0.062738  -1.198471\n",
      "3     -2.202756  -0.062738  -1.198471\n",
      "4     -2.202756  -0.062738  -1.198471\n",
      "...         ...        ...        ...\n",
      "2196   1.469059   0.937808   0.570987\n",
      "2197  -0.305167   1.109850   0.443367\n",
      "2198   1.469059   0.937808   0.570987\n",
      "2199   1.469059   0.937808   0.570987\n",
      "2200   1.469059   0.937808   0.570987\n",
      "\n",
      "[2201 rows x 3 columns]\n"
     ]
    }
   ],
   "source": [
    "print(fit)"
   ]
  },
  {
   "cell_type": "code",
   "execution_count": 21,
   "metadata": {},
   "outputs": [],
   "source": [
    "X_train,X_test,Y_train,Y_test = train_test_split(fit,y,test_size=0.4, random_state = 0)"
   ]
  },
  {
   "cell_type": "code",
   "execution_count": 22,
   "metadata": {},
   "outputs": [
    {
     "name": "stderr",
     "output_type": "stream",
     "text": [
      "C:\\Users\\BHAWNA KUMARI\\Anaconda3\\lib\\site-packages\\sklearn\\linear_model\\logistic.py:432: FutureWarning: Default solver will be changed to 'lbfgs' in 0.22. Specify a solver to silence this warning.\n",
      "  FutureWarning)\n"
     ]
    },
    {
     "data": {
      "text/plain": [
       "LogisticRegression(C=1.0, class_weight=None, dual=False, fit_intercept=True,\n",
       "                   intercept_scaling=1, l1_ratio=None, max_iter=100,\n",
       "                   multi_class='warn', n_jobs=None, penalty='l2',\n",
       "                   random_state=None, solver='warn', tol=0.0001, verbose=0,\n",
       "                   warm_start=False)"
      ]
     },
     "execution_count": 22,
     "metadata": {},
     "output_type": "execute_result"
    }
   ],
   "source": [
    "lg.fit(X_train,Y_train)"
   ]
  },
  {
   "cell_type": "code",
   "execution_count": 23,
   "metadata": {},
   "outputs": [],
   "source": [
    "Y_pred = lg.predict(X_test)"
   ]
  },
  {
   "cell_type": "code",
   "execution_count": 24,
   "metadata": {},
   "outputs": [
    {
     "name": "stdout",
     "output_type": "stream",
     "text": [
      "[[1 1]\n",
      " [1 0]\n",
      " [1 1]\n",
      " ...\n",
      " [1 1]\n",
      " [1 0]\n",
      " [1 1]]\n"
     ]
    }
   ],
   "source": [
    "print(np.concatenate((Y_pred.reshape(len(Y_pred),1), Y_test.reshape(len(Y_test),1)),1))"
   ]
  },
  {
   "cell_type": "code",
   "execution_count": 25,
   "metadata": {},
   "outputs": [
    {
     "name": "stdout",
     "output_type": "stream",
     "text": [
      "[[  9   0]\n",
      " [160 712]]\n"
     ]
    }
   ],
   "source": [
    "print(confusion_matrix(Y_pred,Y_test))"
   ]
  },
  {
   "cell_type": "code",
   "execution_count": 26,
   "metadata": {},
   "outputs": [
    {
     "data": {
      "text/plain": [
       "0.8183881952326901"
      ]
     },
     "execution_count": 26,
     "metadata": {},
     "output_type": "execute_result"
    }
   ],
   "source": [
    "accuracy_score(Y_pred,Y_test)"
   ]
  },
  {
   "cell_type": "code",
   "execution_count": 27,
   "metadata": {},
   "outputs": [],
   "source": [
    "import matplotlib.pyplot as plt\n",
    "import seaborn as sns"
   ]
  },
  {
   "cell_type": "code",
   "execution_count": 28,
   "metadata": {
    "scrolled": false
   },
   "outputs": [
    {
     "name": "stderr",
     "output_type": "stream",
     "text": [
      "C:\\Users\\BHAWNA KUMARI\\Anaconda3\\lib\\site-packages\\statsmodels\\nonparametric\\kde.py:487: RuntimeWarning: invalid value encountered in true_divide\n",
      "  binned = fast_linbin(X, a, b, gridsize) / (delta * nobs)\n",
      "C:\\Users\\BHAWNA KUMARI\\Anaconda3\\lib\\site-packages\\statsmodels\\nonparametric\\kdetools.py:34: RuntimeWarning: invalid value encountered in double_scalars\n",
      "  FAC1 = 2*(np.pi*bw/RANGE)**2\n"
     ]
    },
    {
     "data": {
      "image/png": "[encoded data removed]",
      "text/plain": [
       "<Figure size 939.875x864 with 20 Axes>"
      ]
     },
     "metadata": {
      "needs_background": "light"
     },
     "output_type": "display_data"
    }
   ],
   "source": [
    "sns.pairplot(data, hue='Flight Status', height=3)\n",
    "plt.title(size = 15, label = 'Plot')\n",
    "plt.show()"
   ]
  },
  {
   "cell_type": "code",
   "execution_count": null,
   "metadata": {},
   "outputs": [],
   "source": []
  }
 ],
 "metadata": {
  "kernelspec": {
   "display_name": "Python 3",
   "language": "python",
   "name": "python3"
  },
  "language_info": {
   "codemirror_mode": {
    "name": "ipython",
    "version": 3
   },
   "file_extension": ".py",
   "mimetype": "text/x-python",
   "name": "python",
   "nbconvert_exporter": "python",
   "pygments_lexer": "ipython3",
   "version": "3.7.4"
  }
 },
 "nbformat": 4,
 "nbformat_minor": 2
}
